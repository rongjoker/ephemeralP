{
 "cells": [
  {
   "cell_type": "markdown",
   "id": "b64fd7fb",
   "metadata": {},
   "source": [
    "实验三：图像直方图均衡化\n",
    "一、\t实验目的：\n",
    "1）、熟悉直方图均衡化处理的理论基础；\n",
    "2）、掌握直方图均衡化处理的计算机实现方法；\n",
    "3）、验证直方图均衡化处理理论；\n",
    "4）、观察直方图均衡化处理的结果。\n",
    "二、\t实验要求：\n",
    "编写程序实现图像直方图均衡化。对于给定图像，编写程序计算并绘制原图直方图，同时实现该图像直方图均衡化，返回处理后的图像和直方图。\n",
    "\n",
    "三、最终提交材料：\n",
    "1.\t实验说明文档（中英文均可）：其中包括：作业要求、实现步骤、实验结果分析、参考文献（可选）；\n",
    "2.\t代码：Python/matlab/C++等代码（带注释），贴在报告的附录部分。\n",
    "3.\t将说明文档和代码文档转成pdf格式，提交在Elearning。 \n",
    "4.\t提交截止时间：11月13日晚23：59前。\n"
   ]
  },
  {
   "cell_type": "code",
   "execution_count": null,
   "id": "6d150295",
   "metadata": {},
   "outputs": [],
   "source": []
  }
 ],
 "metadata": {
  "kernelspec": {
   "display_name": "Python 3",
   "language": "python",
   "name": "python3"
  },
  "language_info": {
   "codemirror_mode": {
    "name": "ipython",
    "version": 3
   },
   "file_extension": ".py",
   "mimetype": "text/x-python",
   "name": "python",
   "nbconvert_exporter": "python",
   "pygments_lexer": "ipython3",
   "version": "3.8.8"
  }
 },
 "nbformat": 4,
 "nbformat_minor": 5
}
