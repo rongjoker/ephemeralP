{
 "cells": [
  {
   "cell_type": "markdown",
   "id": "216eae8b",
   "metadata": {},
   "source": [
    "### 交流系数\n",
    "交流系数代表变化程度\n",
    "> 离散余弦变换(DCT for Discrete Cosine Transform)是与傅里叶变换相关的一种变换，它类似于离散傅里叶变换(DFT for Discrete Fourier Transform),但是只使用实数。离散余弦变换相当于一个长度大概是它两倍的离散傅里叶变换\n",
    "\n",
    "### 量化\n",
    "提取灰度时量化是为了减少计算量\n",
    "`离散余弦变化` 是 `正交变换` ，不会有能量损失\n",
    "量化表是根据实际的需要来做的：高频的部分系数大一些，不需要的部分系数为0之类\n",
    "\n",
    "\n"
   ]
  },
  {
   "cell_type": "markdown",
   "id": "a451e0e5",
   "metadata": {},
   "source": [
    "### 熵编码\n",
    "`哈夫曼` 直流编码\n",
    "\n",
    "\n"
   ]
  },
  {
   "cell_type": "markdown",
   "id": "5fff26e0",
   "metadata": {},
   "source": [
    "### mpeg 编码\n",
    "\n",
    "(moving picture export group) 音频与视频 根据时间戳去对应"
   ]
  },
  {
   "cell_type": "markdown",
   "id": "18c82182",
   "metadata": {},
   "source": [
    "### 图像视频水印"
   ]
  },
  {
   "cell_type": "markdown",
   "id": "e46d3f26",
   "metadata": {},
   "source": [
    "### 运动图像序列\n",
    "\n",
    "> 对于I帧来说，因为它是关键帧，既不需要参考过去的帧，也不需要参考将来的帧。所以对I帧的编码，是为了消除空间冗余数据，而且它采用的压缩算法，和JPEG类似\n",
    "\n",
    "> P帧也就是预测图像P，与I帧不同的是，它不仅要从空间上去除冗余数据，还要从时间冗余方面上着手，因为它是以在它之前出现的I帧作为参考对象来编码的。与I帧不同的是，预测图像P的编码是以16x16像素的宏块为基本编码单元的。对于P帧，为了表示它与前面I帧的关系，我们会一直用预测图像和参考图像这两个词。\n",
    "\n",
    "> B帧也是双向预测图像B，对它的编码，即是对它前后帧的像素值之差进行编码，具体的方法和对预测图像P的算法类似。\n",
    "\n",
    "[参考资料](https://blog.csdn.net/houxiaoni01/article/details/99830965)\n",
    "\n",
    "两个I帧之间就是一个图像组\n",
    "图像压缩，先处理i，然后是前向预测p，两者基础上处理b\n",
    "i帧频率是1秒内出现i图像的次数"
   ]
  },
  {
   "cell_type": "markdown",
   "id": "02355eda",
   "metadata": {},
   "source": [
    "### MPEG-4\n",
    "mpeg-1, vcd 之类 遇到图像内容变化大的时候比较模糊，编码固定\n",
    "mpeg-2,动态编码"
   ]
  }
 ],
 "metadata": {
  "kernelspec": {
   "display_name": "Python 3",
   "language": "python",
   "name": "python3"
  },
  "language_info": {
   "codemirror_mode": {
    "name": "ipython",
    "version": 3
   },
   "file_extension": ".py",
   "mimetype": "text/x-python",
   "name": "python",
   "nbconvert_exporter": "python",
   "pygments_lexer": "ipython3",
   "version": "3.8.8"
  }
 },
 "nbformat": 4,
 "nbformat_minor": 5
}
