{
 "cells": [
  {
   "cell_type": "markdown",
   "id": "1a58e776",
   "metadata": {},
   "source": [
    "## 第四次课\n",
    "\n",
    "\n",
    "`python3 -m pip install matplotlib`\n",
    "`pip3.8 install pandas`\n",
    "\n",
    "### 提升法 boosting\n",
    "\n",
    "`adaboost`算法为例：\n",
    "分类树\n",
    "\n",
    "### GBDT\n",
    "\n",
    "回归树\n",
    "\n",
    "学位论文，算法部分，最好在20-30页\n",
    "\n",
    "\n",
    "\n",
    "\n"
   ]
  },
  {
   "cell_type": "code",
   "execution_count": null,
   "id": "5cab538c",
   "metadata": {},
   "outputs": [],
   "source": []
  }
 ],
 "metadata": {
  "kernelspec": {
   "display_name": "Python 3",
   "language": "python",
   "name": "python3"
  },
  "language_info": {
   "codemirror_mode": {
    "name": "ipython",
    "version": 3
   },
   "file_extension": ".py",
   "mimetype": "text/x-python",
   "name": "python",
   "nbconvert_exporter": "python",
   "pygments_lexer": "ipython3",
   "version": "3.8.8"
  }
 },
 "nbformat": 4,
 "nbformat_minor": 5
}
