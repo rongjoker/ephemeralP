{
 "cells": [
  {
   "cell_type": "code",
   "execution_count": 1,
   "metadata": {},
   "outputs": [],
   "source": [
    "import numpy as np\n",
    "import pandas as pd"
   ]
  },
  {
   "cell_type": "code",
   "execution_count": 2,
   "metadata": {},
   "outputs": [],
   "source": [
    "def initialize(dims):\n",
    "    w = np.zeros((dims, 1))\n",
    "    b = 0\n",
    "    return w, b"
   ]
  },
  {
   "cell_type": "code",
   "execution_count": 3,
   "metadata": {},
   "outputs": [],
   "source": [
    "def linar_loss(X, y, w, b):\n",
    "    num_train = X.shape[0]\n",
    "    num_feature = X.shape[1]\n",
    "    \n",
    "    y_hat = np.dot(X, w) + b\n",
    "    loss = np.sum((y_hat-y)**2)/num_train\n",
    "    dw = np.dot(X.T, (y_hat-y)) /num_train\n",
    "    db = np.sum((y_hat-y)) /num_train\n",
    "    return y_hat, loss, dw, db"
   ]
  },
  {
   "cell_type": "code",
   "execution_count": 4,
   "metadata": {},
   "outputs": [],
   "source": [
    "def linar_train(X, y, learning_rate=0.01, epochs=30000):\n",
    "    #loss_list = []\n",
    "    w, b = initialize(X.shape[1])\n",
    "    for i in range(1, epochs):\n",
    "        y_hat, loss, dw, db = linar_loss(X, y, w, b)\n",
    "        w += -learning_rate * dw\n",
    "        b += -learning_rate * db\n",
    "        #loss_list.append(loss)\n",
    "        \n",
    "        if i % 10000 == 0:\n",
    "            print('epoch %d loss %f' % (i, loss))\n",
    "        \n",
    "        params = {\n",
    "            'w': w,\n",
    "            'b': b\n",
    "        }\n",
    "        \n",
    "        grads = {\n",
    "            'dw': dw,\n",
    "            'db': db\n",
    "        }\n",
    "            \n",
    "    return loss, params, grads"
   ]
  },
  {
   "cell_type": "code",
   "execution_count": 5,
   "metadata": {},
   "outputs": [
    {
     "name": "stdout",
     "output_type": "stream",
     "text": [
      "(442, 10)\n",
      "(442,)\n",
      "[[ 0.03807591  0.05068012  0.06169621  0.02187235 -0.0442235  -0.03482076\n",
      "  -0.04340085 -0.00259226  0.01990842 -0.01764613]\n",
      " [-0.00188202 -0.04464164 -0.05147406 -0.02632783 -0.00844872 -0.01916334\n",
      "   0.07441156 -0.03949338 -0.06832974 -0.09220405]\n",
      " [ 0.08529891  0.05068012  0.04445121 -0.00567061 -0.04559945 -0.03419447\n",
      "  -0.03235593 -0.00259226  0.00286377 -0.02593034]\n",
      " [-0.08906294 -0.04464164 -0.01159501 -0.03665645  0.01219057  0.02499059\n",
      "  -0.03603757  0.03430886  0.02269202 -0.00936191]\n",
      " [ 0.00538306 -0.04464164 -0.03638469  0.02187235  0.00393485  0.01559614\n",
      "   0.00814208 -0.00259226 -0.03199144 -0.04664087]]\n",
      "[151.  75. 141. 206. 135.]\n"
     ]
    }
   ],
   "source": [
    "from sklearn.datasets import load_diabetes\n",
    "diabetes = load_diabetes()\n",
    "data = diabetes.data\n",
    "target = diabetes.target \n",
    "print(data.shape)\n",
    "print(target.shape)\n",
    "print(data[:5])\n",
    "print(target[:5])"
   ]
  },
  {
   "cell_type": "code",
   "execution_count": 6,
   "metadata": {},
   "outputs": [
    {
     "name": "stdout",
     "output_type": "stream",
     "text": [
      "(397, 10) (397, 1) (45, 10) (45, 1)\n",
      "X_train= (397, 10)\n",
      "X_test= (45, 10)\n",
      "y_train= (397, 1)\n",
      "y_test= (45, 1)\n"
     ]
    }
   ],
   "source": [
    "from sklearn.utils import shuffle\n",
    "X, y = shuffle(data, target, random_state=13)\n",
    "X = X.astype(np.float32)\n",
    "offset = int(X.shape[0] * 0.9)\n",
    "X_train, y_train = X[:offset], y[:offset]\n",
    "X_test, y_test = X[offset:], y[offset:]\n",
    "y_train = y_train.reshape((-1,1))\n",
    "y_test = y_test.reshape((-1,1))\n",
    "print(X_train.shape, y_train.shape, X_test.shape, y_test.shape)\n",
    "\n",
    "print('X_train=', X_train.shape)\n",
    "print('X_test=', X_test.shape)\n",
    "print('y_train=', y_train.shape)\n",
    "print('y_test=', y_test.shape)"
   ]
  },
  {
   "cell_type": "code",
   "execution_count": 7,
   "metadata": {},
   "outputs": [
    {
     "name": "stdout",
     "output_type": "stream",
     "text": [
      "epoch 10000 loss 5533.039734\n",
      "epoch 20000 loss 5217.582409\n",
      "epoch 30000 loss 4949.676466\n",
      "epoch 40000 loss 4721.504031\n",
      "epoch 50000 loss 4526.567333\n",
      "epoch 60000 loss 4359.463960\n",
      "epoch 70000 loss 4215.700505\n",
      "epoch 80000 loss 4091.538010\n",
      "epoch 90000 loss 3983.863771\n"
     ]
    }
   ],
   "source": [
    "loss, params, grads = linar_train(X_train, y_train, 0.001, 100000)"
   ]
  },
  {
   "cell_type": "code",
   "execution_count": 10,
   "metadata": {},
   "outputs": [
    {
     "data": {
      "text/plain": [
       "{'w': array([[  44.07229775],\n",
       "        [  -6.99872355],\n",
       "        [ 157.0665895 ],\n",
       "        [ 118.32921584],\n",
       "        [  37.47920655],\n",
       "        [  24.97681831],\n",
       "        [-104.31188822],\n",
       "        [ 104.03504877],\n",
       "        [ 148.85521477],\n",
       "        [  94.07047013]]), 'b': 151.57222424703687}"
      ]
     },
     "execution_count": 10,
     "metadata": {},
     "output_type": "execute_result"
    }
   ],
   "source": [
    "params"
   ]
  },
  {
   "cell_type": "code",
   "execution_count": 8,
   "metadata": {},
   "outputs": [
    {
     "data": {
      "text/plain": [
       "array([[132.02545017],\n",
       "       [141.77423134],\n",
       "       [150.48352021],\n",
       "       [128.48666753],\n",
       "       [147.29312454]])"
      ]
     },
     "execution_count": 8,
     "metadata": {},
     "output_type": "execute_result"
    }
   ],
   "source": [
    "def predict(X, params):\n",
    "    w = params['w']\n",
    "    b = params['b']\n",
    "    \n",
    "    y_pred = np.dot(X, w) + b\n",
    "    return y_pred\n",
    "\n",
    "y_pred = predict(X_test, params)\n",
    "y_pred[:5]"
   ]
  },
  {
   "cell_type": "code",
   "execution_count": 10,
   "metadata": {},
   "outputs": [
    {
     "data": {
      "image/png": "[encoded data removed]",
      "text/plain": [
       "<Figure size 432x288 with 1 Axes>"
      ]
     },
     "metadata": {},
     "output_type": "display_data"
    }
   ],
   "source": [
    "import matplotlib.pyplot as plt\n",
    "f = X_test.dot(params['w']) + params['b']\n",
    "\n",
    "plt.scatter(range(X_test.shape[0]), y_test)\n",
    "plt.plot(f, color = 'darkorange')\n",
    "plt.xlabel('X')\n",
    "plt.ylabel('y')\n",
    "plt.show()"
   ]
  },
  {
   "cell_type": "code",
   "execution_count": 13,
   "metadata": {},
   "outputs": [
    {
     "data": {
      "image/png": "[encoded data removed]",
      "text/plain": [
       "<Figure size 432x288 with 1 Axes>"
      ]
     },
     "metadata": {},
     "output_type": "display_data"
    }
   ],
   "source": [
    "plt.plot(loss_list, color = 'blue')\n",
    "plt.xlabel('epochs')\n",
    "plt.ylabel('loss')\n",
    "plt.show()"
   ]
  },
  {
   "cell_type": "code",
   "execution_count": 11,
   "metadata": {},
   "outputs": [
    {
     "data": {
      "text/plain": [
       "(442, 11)"
      ]
     },
     "execution_count": 11,
     "metadata": {},
     "output_type": "execute_result"
    }
   ],
   "source": [
    "from sklearn.utils import shuffle\n",
    "X, y = shuffle(data, target, random_state=13)\n",
    "X = X.astype(np.float32)\n",
    "data = np.concatenate((X, y.reshape((-1,1))), axis=1)\n",
    "data.shape"
   ]
  },
  {
   "cell_type": "code",
   "execution_count": 36,
   "metadata": {},
   "outputs": [
    {
     "name": "stdout",
     "output_type": "stream",
     "text": [
      "(353, 10) (353, 1) (89, 10) (89, 1)\n",
      "epoch 10000 loss 5667.323261\n",
      "epoch 20000 loss 5365.061628\n",
      "epoch 30000 loss 5104.951009\n",
      "epoch 40000 loss 4880.559191\n",
      "epoch 50000 loss 4686.465012\n",
      "epoch 60000 loss 4518.097942\n",
      "epoch 70000 loss 4371.603217\n",
      "epoch 80000 loss 4243.728424\n",
      "epoch 90000 loss 4131.728130\n",
      "five kold cross validation score is 4033.2928969313452\n",
      "valid score is 3558.147428823725\n",
      "(353, 10) (353, 1) (89, 10) (89, 1)\n",
      "epoch 10000 loss 5517.461607\n",
      "epoch 20000 loss 5181.523292\n",
      "epoch 30000 loss 4897.000442\n",
      "epoch 40000 loss 4655.280406\n",
      "epoch 50000 loss 4449.235361\n",
      "epoch 60000 loss 4272.963989\n",
      "epoch 70000 loss 4121.578253\n",
      "epoch 80000 loss 3991.027359\n",
      "epoch 90000 loss 3877.952427\n",
      "five kold cross validation score is 3779.575673476155\n",
      "valid score is 4389.749894361285\n",
      "(354, 10) (354, 1) (88, 10) (88, 1)\n",
      "epoch 10000 loss 5677.526932\n",
      "epoch 20000 loss 5331.464606\n",
      "epoch 30000 loss 5038.541403\n",
      "epoch 40000 loss 4789.859079\n",
      "epoch 50000 loss 4578.047735\n",
      "epoch 60000 loss 4397.001364\n",
      "epoch 70000 loss 4241.659289\n",
      "epoch 80000 loss 4107.825490\n",
      "epoch 90000 loss 3992.019241\n",
      "five kold cross validation score is 3891.3610347157187\n",
      "valid score is 3844.049401675179\n",
      "(354, 10) (354, 1) (88, 10) (88, 1)\n",
      "epoch 10000 loss 5366.435738\n",
      "epoch 20000 loss 5117.050627\n",
      "epoch 30000 loss 4902.593420\n",
      "epoch 40000 loss 4717.676380\n",
      "epoch 50000 loss 4557.767422\n",
      "epoch 60000 loss 4419.053021\n",
      "epoch 70000 loss 4298.323163\n",
      "epoch 80000 loss 4192.874781\n",
      "epoch 90000 loss 4100.430691\n",
      "five kold cross validation score is 4019.0791769506664\n",
      "valid score is 4300.006957377207\n",
      "(354, 10) (354, 1) (88, 10) (88, 1)\n",
      "epoch 10000 loss 5592.024970\n",
      "epoch 20000 loss 5278.867272\n",
      "epoch 30000 loss 5010.647792\n",
      "epoch 40000 loss 4780.303445\n",
      "epoch 50000 loss 4581.916469\n",
      "epoch 60000 loss 4410.526730\n",
      "epoch 70000 loss 4261.974936\n",
      "epoch 80000 loss 4132.771612\n",
      "epoch 90000 loss 4019.987616\n",
      "five kold cross validation score is 3921.1718979156462\n",
      "valid score is 3909.701727644273\n"
     ]
    }
   ],
   "source": [
    "from random import shuffle\n",
    "\n",
    "def k_fold_cross_validation(items, k, randomize=True):\n",
    "    if randomize:\n",
    "        items = list(items)\n",
    "        shuffle(items)\n",
    "\n",
    "    slices = [items[i::k] for i in range(k)]\n",
    "\n",
    "    for i in range(k):\n",
    "        validation = slices[i]\n",
    "        training = [item\n",
    "                    for s in slices if s is not validation\n",
    "                    for item in s]\n",
    "        training = np.array(training)\n",
    "        validation = np.array(validation)\n",
    "        yield training, validation\n",
    "\n",
    "\n",
    "\n",
    "for training, validation in k_fold_cross_validation(data, 5): \n",
    "    X_train = training[:, :10]\n",
    "    y_train = training[:, -1].reshape((-1,1))\n",
    "    X_valid = validation[:, :10]\n",
    "    y_valid = validation[:, -1].reshape((-1,1))\n",
    "    loss5 = []\n",
    "    #print(X_train.shape, y_train.shape, X_valid.shape, y_valid.shape)\n",
    "    loss, params, grads = linar_train(X_train, y_train, 0.001, 100000)\n",
    "    loss5.append(loss)\n",
    "    score = np.mean(loss5)\n",
    "    print('five kold cross validation score is', score)\n",
    "    y_pred = predict(X_valid, params)\n",
    "    valid_score = np.sum(((y_pred-y_valid)**2))/len(X_valid)\n",
    "    print('valid score is', valid_score)"
   ]
  },
  {
   "cell_type": "code",
   "execution_count": 38,
   "metadata": {},
   "outputs": [
    {
     "name": "stdout",
     "output_type": "stream",
     "text": [
      "(353, 10) (353, 1) (89, 10) (89, 1)\n"
     ]
    }
   ],
   "source": [
    "from sklearn.datasets import load_diabetes\n",
    "from sklearn.utils import shuffle\n",
    "from sklearn.model_selection import train_test_split\n",
    "\n",
    "diabetes = load_diabetes()\n",
    "data = diabetes.data\n",
    "target = diabetes.target \n",
    "X, y = shuffle(data, target, random_state=13)\n",
    "X = X.astype(np.float32)\n",
    "y = y.reshape((-1, 1))\n",
    "X_train, X_test, y_train, y_test = train_test_split(X, y, test_size=0.2, random_state=42)\n",
    "print(X_train.shape, y_train.shape, X_test.shape, y_test.shape)"
   ]
  },
  {
   "cell_type": "code",
   "execution_count": 46,
   "metadata": {},
   "outputs": [
    {
     "name": "stdout",
     "output_type": "stream",
     "text": [
      "Coefficients: \n",
      " [[ -23.510405 -216.31221   472.3672    372.07184  -863.69977   583.276\n",
      "   105.79429   194.7704    754.07404    38.22214 ]]\n",
      "Mean squared error: 3028.50\n",
      "Variance score: 0.53\n"
     ]
    },
    {
     "data": {
      "image/png": "[encoded data removed]",
      "text/plain": [
       "<matplotlib.figure.Figure at 0x2392761ba58>"
      ]
     },
     "metadata": {},
     "output_type": "display_data"
    }
   ],
   "source": [
    "import matplotlib.pyplot as plt\n",
    "import numpy as np\n",
    "from sklearn import linear_model\n",
    "from sklearn.metrics import mean_squared_error, r2_score\n",
    "\n",
    "\n",
    "regr = linear_model.LinearRegression()\n",
    "regr.fit(X_train, y_train)\n",
    "\n",
    "y_pred = regr.predict(X_test)\n",
    "\n",
    "# The coefficients\n",
    "print('Coefficients: \\n', regr.coef_)\n",
    "# The mean squared error\n",
    "print(\"Mean squared error: %.2f\"\n",
    "      % mean_squared_error(y_test, y_pred))\n",
    "# Explained variance score: 1 is perfect prediction\n",
    "print('Variance score: %.2f' % r2_score(y_test, y_pred))\n",
    "\n",
    "# Plot outputs\n",
    "plt.scatter(range(X_test.shape[0]), y_test, color='red')\n",
    "plt.plot(range(X_test.shape[0]), y_pred, color='blue', linewidth=3)\n",
    "\n",
    "plt.xticks(())\n",
    "plt.yticks(())\n",
    "\n",
    "plt.show()"
   ]
  },
  {
   "cell_type": "code",
   "execution_count": 47,
   "metadata": {},
   "outputs": [],
   "source": [
    "def R2(ypred, ytrue):\n",
    "    y_avg = np.mean(ytrue)\n",
    "    SS_tot = np.sum((ytrue - y_avg)**2)\n",
    "    SS_res = np.sum((ytrue - ypred)**2)\n",
    "    r2 = 1 - (SS_res/SS_tot)\n",
    "    return r2"
   ]
  },
  {
   "cell_type": "code",
   "execution_count": 50,
   "metadata": {},
   "outputs": [
    {
     "name": "stdout",
     "output_type": "stream",
     "text": [
      "(442, 10) (442, 1)\n"
     ]
    }
   ],
   "source": [
    "print(X.shape, y.shape)"
   ]
  },
  {
   "cell_type": "code",
   "execution_count": 55,
   "metadata": {},
   "outputs": [
    {
     "name": "stdout",
     "output_type": "stream",
     "text": [
      "Cross Validating - Run 1 out of 5\n",
      "Fold 1 out of 5\n",
      "Fold 2 out of 5\n",
      "Fold 3 out of 5\n",
      "Fold 4 out of 5\n",
      "Fold 5 out of 5\n",
      "Cross Validating - Run 2 out of 5\n",
      "Fold 1 out of 5\n",
      "Fold 2 out of 5\n",
      "Fold 3 out of 5\n",
      "Fold 4 out of 5\n",
      "Fold 5 out of 5\n",
      "Cross Validating - Run 3 out of 5\n",
      "Fold 1 out of 5\n",
      "Fold 2 out of 5\n",
      "Fold 3 out of 5\n",
      "Fold 4 out of 5\n",
      "Fold 5 out of 5\n",
      "Cross Validating - Run 4 out of 5\n",
      "Fold 1 out of 5\n",
      "Fold 2 out of 5\n",
      "Fold 3 out of 5\n",
      "Fold 4 out of 5\n",
      "Fold 5 out of 5\n",
      "Cross Validating - Run 5 out of 5\n",
      "Fold 1 out of 5\n",
      "Fold 2 out of 5\n",
      "Fold 3 out of 5\n",
      "Fold 4 out of 5\n",
      "Fold 5 out of 5\n",
      "\n",
      "Overall R2: [-670.4095204  -671.45443974 -673.60734422 -671.40192667 -675.31208185]\n",
      "Mean: -672.437062575318\n",
      "Deviation: 1.77669784591671\n"
     ]
    }
   ],
   "source": [
    "import numpy as np \n",
    "import pandas as pd \n",
    "from sklearn.utils import shuffle\n",
    "from sklearn.model_selection import KFold\n",
    "from sklearn.linear_model import LinearRegression\n",
    "\n",
    "def cross_validate(model, x, y, folds=5, repeats=5):\n",
    "    \n",
    "    ypred = np.zeros((len(y),repeats))\n",
    "    score = np.zeros(repeats)\n",
    "    for r in range(repeats):\n",
    "        i=0\n",
    "        print('Cross Validating - Run', str(r + 1), 'out of', str(repeats))\n",
    "        x,y = shuffle(x, y, random_state=r) #shuffle data before each repeat\n",
    "        kf = KFold(n_splits=folds,random_state=i+1000) #random split, different each time\n",
    "        for train_ind, test_ind in kf.split(x):\n",
    "            print('Fold', i+1, 'out of', folds)\n",
    "            xtrain,ytrain = x[train_ind,:],y[train_ind]\n",
    "            xtest,ytest = x[test_ind,:],y[test_ind]\n",
    "            model.fit(xtrain, ytrain)\n",
    "            #print(xtrain.shape, ytrain.shape, xtest.shape, ytest.shape)\n",
    "            ypred[test_ind]=model.predict(xtest)\n",
    "            i+=1\n",
    "        score[r] = R2(ypred[:,r],y)\n",
    "    print('\\nOverall R2:',str(score))\n",
    "    print('Mean:',str(np.mean(score)))\n",
    "    print('Deviation:',str(np.std(score)))\n",
    "    pass\n",
    "\n",
    "cross_validate(regr, X, y, folds=5, repeats=5)"
   ]
  },
  {
   "cell_type": "code",
   "execution_count": null,
   "metadata": {},
   "outputs": [],
   "source": [
    "#!/usr/bin/env python\n",
    "# -*- coding: utf-8 -*-\n",
    "# @Time    : 2018/8/29 14:45\n",
    "# @Author  : louwill\n",
    "# @File    : lr_class.py\n",
    "# @mail: ygnjd2016@gmail.com\n",
    "\n",
    "\n",
    "import numpy as np\n",
    "from sklearn.utils import shuffle\n",
    "from sklearn.datasets import load_diabetes\n",
    "\n",
    "class lr_model():\n",
    "    def __init__(self):\n",
    "        pass\n",
    "\n",
    "    def prepare_data(self):\n",
    "        data = load_diabetes().data\n",
    "        target = load_diabetes().target\n",
    "        X, y = shuffle(data, target, random_state=42)\n",
    "        X = X.astype(np.float32)\n",
    "        y = y.reshape((-1, 1))\n",
    "        data = np.concatenate((X, y), axis=1)\n",
    "        return data\n",
    "\n",
    "\n",
    "    def initialize_params(self, dims):\n",
    "        w = np.zeros((dims, 1))\n",
    "        b = 0\n",
    "        return w, b\n",
    "\n",
    "\n",
    "    def linear_loss(self, X, y, w, b):\n",
    "        num_train = X.shape[0]\n",
    "        num_feature = X.shape[1]\n",
    "\n",
    "        y_hat = np.dot(X, w) + b\n",
    "        loss = np.sum((y_hat-y)**2) / num_train\n",
    "        dw = np.dot(X.T, (y_hat - y)) / num_train\n",
    "        db = np.sum((y_hat - y)) / num_train\n",
    "        return y_hat, loss, dw, db\n",
    "\n",
    "\n",
    "    def linear_train(self, X, y, learning_rate, epochs):\n",
    "        w, b = self.initialize_params(X.shape[1])\n",
    "        for i in range(1, epochs):\n",
    "            y_hat, loss, dw, db = self.linear_loss(X, y, w, b)\n",
    "            w += -learning_rate * dw\n",
    "            b += -learning_rate * db\n",
    "\n",
    "            if i % 10000 == 0:\n",
    "                print('epoch %d loss %f' % (i, loss))\n",
    "            params = {\n",
    "                'w': w,\n",
    "                'b': b\n",
    "            }\n",
    "            grads = {\n",
    "                'dw': dw,\n",
    "                'db': db\n",
    "            }\n",
    "        return loss, params, grads\n",
    "\n",
    "\n",
    "    def predict(self, X, params):\n",
    "        w = params['w']\n",
    "        b = params['b']\n",
    "        y_pred = np.dot(X, w) + b\n",
    "        return y_pred\n",
    "\n",
    "\n",
    "    def linear_cross_validation(self, data, k, randomize=True):\n",
    "        if randomize:\n",
    "            data = list(data)\n",
    "            shuffle(data)\n",
    "\n",
    "        slices = [data[i::k] for i in range(k)]\n",
    "        for i in range(k):\n",
    "            validation = slices[i]\n",
    "            train = [data\n",
    "                        for s in slices if s is not validation\n",
    "                        for data in s]\n",
    "            train = np.array(train)\n",
    "            validation = np.array(validation)\n",
    "            yield train, validation\n",
    "\n",
    "\n",
    "if __name__ == '__main__':\n",
    "    lr = lr_model()\n",
    "    data = lr.prepare_data()\n",
    "    for train, validation in lr.linear_cross_validation(data, 5):\n",
    "        X_train = train[:, :10]\n",
    "        y_train = train[:, -1].reshape((-1, 1))\n",
    "        X_valid = validation[:, :10]\n",
    "        y_valid = validation[:, -1].reshape((-1, 1))\n",
    "\n",
    "        loss5 = []\n",
    "        loss, params, grads = lr.linear_train(X_train, y_train, 0.001, 100000)\n",
    "        loss5.append(loss)\n",
    "        score = np.mean(loss5)\n",
    "        print('five kold cross validation score is', score)\n",
    "        y_pred = lr.predict(X_valid, params)\n",
    "        valid_score = np.sum(((y_pred - y_valid) ** 2)) / len(X_valid)\n",
    "        print('valid score is', valid_score)"
   ]
  }
 ],
 "metadata": {
  "kernelspec": {
   "display_name": "Python 3",
   "language": "python",
   "name": "python3"
  },
  "language_info": {
   "codemirror_mode": {
    "name": "ipython",
    "version": 3
   },
   "file_extension": ".py",
   "mimetype": "text/x-python",
   "name": "python",
   "nbconvert_exporter": "python",
   "pygments_lexer": "ipython3",
   "version": "3.6.5"
  }
 },
 "nbformat": 4,
 "nbformat_minor": 2
}
