{
 "cells": [
  {
   "cell_type": "code",
   "execution_count": 1,
   "metadata": {},
   "outputs": [],
   "source": [
    "import numpy as np\n",
    "import matplotlib.pyplot as plt"
   ]
  },
  {
   "cell_type": "code",
   "execution_count": 2,
   "metadata": {},
   "outputs": [],
   "source": [
    "data_dict = {-1:np.array([[1,7],\n",
    "                          [2,8],\n",
    "                          [3,8],]),\n",
    "             \n",
    "             1:np.array([[5,1],\n",
    "                         [6,-1],\n",
    "                         [7,3],])}"
   ]
  },
  {
   "cell_type": "code",
   "execution_count": 3,
   "metadata": {},
   "outputs": [
    {
     "data": {
      "text/plain": [
       "{-1: array([[1, 7],\n",
       "        [2, 8],\n",
       "        [3, 8]]), 1: array([[ 5,  1],\n",
       "        [ 6, -1],\n",
       "        [ 7,  3]])}"
      ]
     },
     "execution_count": 3,
     "metadata": {},
     "output_type": "execute_result"
    }
   ],
   "source": [
    "data_dict"
   ]
  },
  {
   "cell_type": "code",
   "execution_count": 15,
   "metadata": {},
   "outputs": [
    {
     "data": {
      "image/png": "[encoded data removed]",
      "text/plain": [
       "<Figure size 432x288 with 1 Axes>"
      ]
     },
     "metadata": {},
     "output_type": "display_data"
    }
   ],
   "source": [
    "colors = {1:'r',-1:'g'}\n",
    "fig = plt.figure()\n",
    "ax = fig.add_subplot(1,1,1)\n",
    "[[ax.scatter(x[0],x[1],s=100,color=colors[i]) for x in data_dict[i]] for i in data_dict]\n",
    "plt.show()"
   ]
  },
  {
   "cell_type": "code",
   "execution_count": 7,
   "metadata": {},
   "outputs": [
    {
     "name": "stdout",
     "output_type": "stream",
     "text": [
      "yi: -1\n",
      "featureset: [1 7]\n",
      "feature: 1\n",
      "feature: 7\n",
      "featureset: [2 8]\n",
      "feature: 2\n",
      "feature: 8\n",
      "featureset: [3 8]\n",
      "feature: 3\n",
      "feature: 8\n",
      "yi: 1\n",
      "featureset: [5 1]\n",
      "feature: 5\n",
      "feature: 1\n",
      "featureset: [ 6 -1]\n",
      "feature: 6\n",
      "feature: -1\n",
      "featureset: [7 3]\n",
      "feature: 7\n",
      "feature: 3\n"
     ]
    },
    {
     "data": {
      "text/plain": [
       "[1, 7, 2, 8, 3, 8, 5, 1, 6, -1, 7, 3]"
      ]
     },
     "execution_count": 7,
     "metadata": {},
     "output_type": "execute_result"
    }
   ],
   "source": [
    "all_data = []\n",
    "for yi in data_dict:\n",
    "    print('yi:', yi)\n",
    "    for featureset in data_dict[yi]:\n",
    "        print('featureset:', featureset)\n",
    "        for feature in featureset:\n",
    "            print('feature:', feature)\n",
    "            all_data.append(feature)         \n",
    "all_data"
   ]
  },
  {
   "cell_type": "code",
   "execution_count": 28,
   "metadata": {},
   "outputs": [
    {
     "name": "stdout",
     "output_type": "stream",
     "text": [
      "8 -1\n"
     ]
    }
   ],
   "source": [
    "max_feature_value = max(all_data)\n",
    "min_feature_value = min(all_data)\n",
    "print(max_feature_value, min_feature_value)"
   ]
  },
  {
   "cell_type": "code",
   "execution_count": 21,
   "metadata": {},
   "outputs": [
    {
     "name": "stdout",
     "output_type": "stream",
     "text": [
      "Optimized a step!\n",
      "Optimized a step!\n",
      "Optimized a step!\n",
      "[1 7] : 1.271999999999435\n",
      "[2 8] : 1.271999999999435\n",
      "[3 8] : 1.0399999999995864\n",
      "[5 1] : 1.0479999999990506\n",
      "[ 6 -1] : 1.7439999999985962\n",
      "[7 3] : 1.0479999999990506\n"
     ]
    }
   ],
   "source": [
    "def train(data):\n",
    "    # 参数字典 { ||w||: [w,b] }\n",
    "    opt_dict = {}\n",
    "\n",
    "    # 数据转换列表\n",
    "    transforms = [[1,1],\n",
    "                  [-1,1],\n",
    "                  [-1,-1],\n",
    "                  [1,-1]]\n",
    "\n",
    "    # 从字典中获取所有数据\n",
    "    all_data = []\n",
    "    for yi in data:\n",
    "        for featureset in data[yi]:\n",
    "            for feature in featureset:\n",
    "                all_data.append(feature)\n",
    "\n",
    "    # 获取数据最大最小值\n",
    "    max_feature_value = max(all_data)\n",
    "    min_feature_value = min(all_data)\n",
    "    all_data = None\n",
    "\n",
    "    # 定义一个长列表\n",
    "    step_sizes = [max_feature_value * 0.1,\n",
    "                  max_feature_value * 0.01,\n",
    "                  max_feature_value * 0.001\n",
    "                  ]\n",
    "\n",
    "\n",
    "    # 参数b的范围设置\n",
    "    b_range_multiple = 2\n",
    "    b_multiple = 5\n",
    "    latest_optimum = max_feature_value*10\n",
    "\n",
    "    # 基于不同步长训练优化\n",
    "    for step in step_sizes:\n",
    "        w = np.array([latest_optimum,latest_optimum])\n",
    "        # 凸优化\n",
    "        optimized = False\n",
    "        while not optimized:\n",
    "            for b in np.arange(-1*(max_feature_value*b_range_multiple),\n",
    "                               max_feature_value*b_range_multiple,\n",
    "                               step*b_multiple):\n",
    "                for transformation in transforms:\n",
    "                    w_t = w*transformation\n",
    "                    found_option = True\n",
    "\n",
    "                    for i in data:\n",
    "                        for xi in data[i]:\n",
    "                            yi=i\n",
    "                            if not yi*(np.dot(w_t,xi)+b) >= 1:\n",
    "                                found_option = False\n",
    "                                # print(xi,':',yi*(np.dot(w_t,xi)+b))\n",
    "\n",
    "                    if found_option:\n",
    "                        opt_dict[np.linalg.norm(w_t)] = [w_t,b]\n",
    "\n",
    "            if w[0] < 0:\n",
    "                optimized = True\n",
    "                print('Optimized a step!')\n",
    "            else:\n",
    "                w = w - step\n",
    "\n",
    "        norms = sorted([n for n in opt_dict])\n",
    "        #||w|| : [w,b]\n",
    "        opt_choice = opt_dict[norms[0]]\n",
    "        w = opt_choice[0]\n",
    "        b = opt_choice[1]\n",
    "        latest_optimum = opt_choice[0][0]+step*2\n",
    "\n",
    "    for i in data:\n",
    "        for xi in data[i]:\n",
    "            yi=i\n",
    "            print(xi,':',yi*(np.dot(w,xi)+b)) \n",
    "    return w, b\n",
    "            \n",
    "    \n",
    "w, b = train(data_dict)"
   ]
  },
  {
   "cell_type": "code",
   "execution_count": 26,
   "metadata": {},
   "outputs": [],
   "source": [
    "# 定义预测函数\n",
    "def predict(features):\n",
    "    # sign( x.w+b )\n",
    "    classification = np.sign(np.dot(np.array(features),w)+b)\n",
    "    if classification !=0:\n",
    "        ax.scatter(features[0], features[1], s=200, marker='^', c=colors[classification])\n",
    "        print(classification)\n",
    "    return classification"
   ]
  },
  {
   "cell_type": "code",
   "execution_count": 27,
   "metadata": {},
   "outputs": [
    {
     "name": "stdout",
     "output_type": "stream",
     "text": [
      "-1.0\n",
      "-1.0\n",
      "-1.0\n",
      "-1.0\n",
      "1.0\n",
      "-1.0\n",
      "1.0\n",
      "-1.0\n",
      "-1.0\n",
      "1.0\n"
     ]
    }
   ],
   "source": [
    "predict_us = [[0,10],\n",
    "              [1,3],\n",
    "              [3,4],\n",
    "              [3,5],\n",
    "              [5,5],\n",
    "              [5,6],\n",
    "              [6,-5],\n",
    "              [5,8],\n",
    "              [2,5], \n",
    "              [8,-3]]\n",
    "\n",
    "for p in predict_us:\n",
    "    predict(p)"
   ]
  },
  {
   "cell_type": "code",
   "execution_count": 12,
   "metadata": {},
   "outputs": [
    {
     "name": "stdout",
     "output_type": "stream",
     "text": [
      "Optimized a step!\n",
      "Optimized a step!\n",
      "Optimized a step!\n",
      "[1 7] : 1.271999999999435\n",
      "[2 8] : 1.271999999999435\n",
      "[3 8] : 1.0399999999995864\n",
      "[5 1] : 1.0479999999990506\n",
      "[ 6 -1] : 1.7439999999985962\n",
      "[7 3] : 1.0479999999990506\n"
     ]
    },
    {
     "data": {
      "image/png": "[encoded data removed]",
      "text/plain": [
       "<Figure size 432x288 with 1 Axes>"
      ]
     },
     "metadata": {},
     "output_type": "display_data"
    }
   ],
   "source": [
    "class Hard_Margin_SVM:\n",
    "    def __init__(self, visualization=True):\n",
    "        self.visualization = visualization\n",
    "        self.colors = {1:'r',-1:'g'}\n",
    "        if self.visualization:\n",
    "            self.fig = plt.figure()\n",
    "            self.ax = self.fig.add_subplot(1,1,1)\n",
    "            \n",
    "    # 定义训练函数\n",
    "    def train(self, data):\n",
    "        self.data = data\n",
    "        # 参数字典 { ||w||: [w,b] }\n",
    "        opt_dict = {}\n",
    "        \n",
    "        # 数据转换列表\n",
    "        transforms = [[1,1],\n",
    "                      [-1,1],\n",
    "                      [-1,-1],\n",
    "                      [1,-1]]\n",
    "        \n",
    "        # 从字典中获取所有数据\n",
    "        all_data = []\n",
    "        for yi in self.data:\n",
    "            for featureset in self.data[yi]:\n",
    "                for feature in featureset:\n",
    "                    all_data.append(feature)\n",
    "                    \n",
    "        # 获取数据最大最小值\n",
    "        self.max_feature_value = max(all_data)\n",
    "        self.min_feature_value = min(all_data)\n",
    "        all_data = None\n",
    "\n",
    "        # 定义一个学习率(步长)列表\n",
    "        step_sizes = [self.max_feature_value * 0.1,\n",
    "                      self.max_feature_value * 0.01,\n",
    "                      self.max_feature_value * 0.001\n",
    "                      ]\n",
    "\n",
    "        \n",
    "        # 参数b的范围设置\n",
    "        b_range_multiple = 2\n",
    "        b_multiple = 5\n",
    "        latest_optimum = self.max_feature_value*10\n",
    "        \n",
    "        # 基于不同步长训练优化\n",
    "        for step in step_sizes:\n",
    "            w = np.array([latest_optimum,latest_optimum])\n",
    "            # 凸优化\n",
    "            optimized = False\n",
    "            while not optimized:\n",
    "                for b in np.arange(-1*(self.max_feature_value*b_range_multiple),\n",
    "                                   self.max_feature_value*b_range_multiple,\n",
    "                                   step*b_multiple):\n",
    "                    for transformation in transforms:\n",
    "                        w_t = w*transformation\n",
    "                        found_option = True\n",
    "                        \n",
    "                        for i in self.data:\n",
    "                            for xi in self.data[i]:\n",
    "                                yi=i\n",
    "                                if not yi*(np.dot(w_t,xi)+b) >= 1:\n",
    "                                    found_option = False\n",
    "                                    # print(xi,':',yi*(np.dot(w_t,xi)+b))\n",
    "                                    \n",
    "                        if found_option:\n",
    "                            opt_dict[np.linalg.norm(w_t)] = [w_t,b]\n",
    "\n",
    "                if w[0] < 0:\n",
    "                    optimized = True\n",
    "                    print('Optimized a step!')\n",
    "                else:\n",
    "                    w = w - step\n",
    "\n",
    "            norms = sorted([n for n in opt_dict])\n",
    "            #||w|| : [w,b]\n",
    "            opt_choice = opt_dict[norms[0]]\n",
    "            self.w = opt_choice[0]\n",
    "            self.b = opt_choice[1]\n",
    "            latest_optimum = opt_choice[0][0]+step*2\n",
    "            \n",
    "        for i in self.data:\n",
    "            for xi in self.data[i]:\n",
    "                yi=i\n",
    "                print(xi,':',yi*(np.dot(self.w,xi)+self.b))            \n",
    "    \n",
    "    # 定义预测函数\n",
    "    def predict(self,features):\n",
    "        # sign( x.w+b )\n",
    "        classification = np.sign(np.dot(np.array(features),self.w)+self.b)\n",
    "        if classification !=0 and self.visualization:\n",
    "            self.ax.scatter(features[0], features[1], s=200, marker='^', c=self.colors[classification])\n",
    "        return classification\n",
    "\n",
    "    # 定义结果绘图函数\n",
    "    def visualize(self):\n",
    "        [[self.ax.scatter(x[0],x[1],s=100,color=self.colors[i]) for x in data_dict[i]] for i in data_dict]\n",
    "\n",
    "        # hyperplane = x.w+b\n",
    "        # v = x.w+b\n",
    "        # psv = 1\n",
    "        # nsv = -1\n",
    "        # dec = 0\n",
    "        # 定义线性超平面\n",
    "        def hyperplane(x,w,b,v):\n",
    "            return (-w[0]*x-b+v) / w[1]\n",
    "\n",
    "        datarange = (self.min_feature_value*0.9,self.max_feature_value*1.1)\n",
    "        hyp_x_min = datarange[0]\n",
    "        hyp_x_max = datarange[1]\n",
    "\n",
    "        # (w.x+b) = 1\n",
    "        # 正支持向量\n",
    "        psv1 = hyperplane(hyp_x_min, self.w, self.b, 1)\n",
    "        psv2 = hyperplane(hyp_x_max, self.w, self.b, 1)\n",
    "        self.ax.plot([hyp_x_min,hyp_x_max],[psv1,psv2], 'k')\n",
    "\n",
    "        # (w.x+b) = -1\n",
    "        # 负支持向量\n",
    "        nsv1 = hyperplane(hyp_x_min, self.w, self.b, -1)\n",
    "        nsv2 = hyperplane(hyp_x_max, self.w, self.b, -1)\n",
    "        self.ax.plot([hyp_x_min,hyp_x_max],[nsv1,nsv2], 'k')\n",
    "\n",
    "        # (w.x+b) = 0\n",
    "        # 线性分隔超平面\n",
    "        db1 = hyperplane(hyp_x_min, self.w, self.b, 0)\n",
    "        db2 = hyperplane(hyp_x_max, self.w, self.b, 0)\n",
    "        self.ax.plot([hyp_x_min,hyp_x_max],[db1,db2], 'y--')\n",
    "\n",
    "        plt.show()\n",
    "\n",
    "\n",
    "data_dict = {-1:np.array([[1,7],\n",
    "                          [2,8],\n",
    "                          [3,8],]),\n",
    "             \n",
    "             1:np.array([[5,1],\n",
    "                         [6,-1],\n",
    "                         [7,3],])}\n",
    "\n",
    "svm = Hard_Margin_SVM()\n",
    "svm.train(data=data_dict)\n",
    "\n",
    "predict_us = [[0,10],\n",
    "              [1,3],\n",
    "              [3,4],\n",
    "              [3,5],\n",
    "              [5,5],\n",
    "              [5,6],\n",
    "              [6,-5],\n",
    "              [5,8],\n",
    "              [2,5], \n",
    "              [8,-3]]\n",
    "\n",
    "for p in predict_us:\n",
    "    svm.predict(p)\n",
    "\n",
    "svm.visualize()"
   ]
  },
  {
   "cell_type": "code",
   "execution_count": null,
   "metadata": {},
   "outputs": [],
   "source": []
  }
 ],
 "metadata": {
  "kernelspec": {
   "display_name": "Python 3",
   "language": "python",
   "name": "python3"
  },
  "language_info": {
   "codemirror_mode": {
    "name": "ipython",
    "version": 3
   },
   "file_extension": ".py",
   "mimetype": "text/x-python",
   "name": "python",
   "nbconvert_exporter": "python",
   "pygments_lexer": "ipython3",
   "version": "3.6.4"
  }
 },
 "nbformat": 4,
 "nbformat_minor": 2
}
