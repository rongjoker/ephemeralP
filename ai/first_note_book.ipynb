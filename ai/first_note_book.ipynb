{
 "cells": [
  {
   "cell_type": "code",
   "execution_count": 15,
   "id": "11866930",
   "metadata": {},
   "outputs": [
    {
     "name": "stdout",
     "output_type": "stream",
     "text": [
      "[1, 4, 6, 10]\n"
     ]
    }
   ],
   "source": [
    "from typing import List\n",
    "\n",
    "\n",
    "def quick_sort(nums:List[int], left:int, right:int):\n",
    "    if left >= right:\n",
    "        return\n",
    "    index_l, index_r = left, right\n",
    "    pivot = nums[left]\n",
    "    while index_l < index_r:\n",
    "        while nums[index_r] >= pivot and index_l < index_r:\n",
    "            index_r -= 1\n",
    "        if index_l < index_r:\n",
    "            nums[index_l] = nums[index_r]\n",
    "            index_l += 1\n",
    "        while nums[index_l] <= pivot and index_l < index_r:\n",
    "            index_l += 1\n",
    "        if index_l < index_r:\n",
    "            nums[index_r] = nums[index_l]\n",
    "            index_r -= 1\n",
    "    nums[index_l] = pivot\n",
    "    quick_sort(nums, left, index_l - 1)\n",
    "    quick_sort(nums, index_l + 1, right)\n",
    "    \n",
    "\n",
    "nums = [1, 10, 6, 4]\n",
    "quick_sort(nums, 0, 3)\n",
    "print(nums)"
   ]
  },
  {
   "cell_type": "markdown",
   "id": "caf14f50",
   "metadata": {},
   "source": [
    "### 源码\n",
    "\n",
    "```\n",
    "from typing import List\n",
    "\n",
    "\n",
    "def quick_sort(nums:List[int], left:int, right:int):\n",
    "    if left >= right:\n",
    "        return\n",
    "    index_l, index_r = left, right\n",
    "    pivot = nums[left]\n",
    "    while index_l < index_r:\n",
    "        while nums[index_r] >= pivot and index_l < index_r:\n",
    "            index_r -= 1\n",
    "        if index_l < index_r:\n",
    "            nums[index_l] = nums[index_r]\n",
    "            index_l += 1\n",
    "        while nums[index_l] <= pivot and index_l < index_r:\n",
    "            index_l += 1\n",
    "        if index_l < index_r:\n",
    "            nums[index_r] = nums[index_l]\n",
    "            index_r -= 1\n",
    "    nums[index_l] = pivot\n",
    "    quick_sort(nums, left, index_l - 1)\n",
    "    quick_sort(nums, index_l + 1, right)\n",
    "    \n",
    "\n",
    "nums = [1, 10, 6, 4]\n",
    "quick_sort(nums, 0, 3)\n",
    "print(nums)\n",
    "```\n",
    "\n",
    "> 引用来源"
   ]
  }
 ],
 "metadata": {
  "kernelspec": {
   "display_name": "Python 3",
   "language": "python",
   "name": "python3"
  },
  "language_info": {
   "codemirror_mode": {
    "name": "ipython",
    "version": 3
   },
   "file_extension": ".py",
   "mimetype": "text/x-python",
   "name": "python",
   "nbconvert_exporter": "python",
   "pygments_lexer": "ipython3",
   "version": "3.8.8"
  }
 },
 "nbformat": 4,
 "nbformat_minor": 5
}
