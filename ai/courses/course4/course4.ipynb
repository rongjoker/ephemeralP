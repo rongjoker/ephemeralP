{
 "cells": [
  {
   "cell_type": "markdown",
   "id": "b9d60931",
   "metadata": {},
   "source": [
    "## 第四次课 动态页面交互的实现\n",
    "\n",
    "\n",
    "\n",
    "### url编码解析\n",
    "\n",
    "`http://search.dangdang.com/?medium=01&key1=%B4%F3%CA%FD%BE%DD&key3=%C7%E5%BB%AA%B4%F3%D1%A7%B3%F6%B0%E6%C9%E7&category_path=01.00.00.00.00.00`\n",
    "\n",
    "\n",
    "\n",
    "\n"
   ]
  },
  {
   "cell_type": "code",
   "execution_count": 7,
   "id": "2b239480",
   "metadata": {},
   "outputs": [
    {
     "name": "stdout",
     "output_type": "stream",
     "text": [
      "encode: %E6%B5%8B%E8%AF%95\n",
      "清华大学出版社\n"
     ]
    }
   ],
   "source": [
    "import urllib.parse as ur\n",
    "\n",
    "\n",
    "print('encode:', ur.quote('测试'))\n",
    "encode_url = '%C7%E5%BB%AA%B4%F3%D1%A7%B3%F6%B0%E6%C9%E7'\n",
    "unencode_url = ur.unquote(encode_url,'GBK')    # 解码\n",
    "print(unencode_url)"
   ]
  },
  {
   "cell_type": "markdown",
   "id": "88e7f490",
   "metadata": {},
   "source": [
    "### dark web\n",
    "\n",
    "`洋葱网络`"
   ]
  },
  {
   "cell_type": "code",
   "execution_count": null,
   "id": "447924da",
   "metadata": {},
   "outputs": [],
   "source": []
  }
 ],
 "metadata": {
  "kernelspec": {
   "display_name": "Python 3",
   "language": "python",
   "name": "python3"
  },
  "language_info": {
   "codemirror_mode": {
    "name": "ipython",
    "version": 3
   },
   "file_extension": ".py",
   "mimetype": "text/x-python",
   "name": "python",
   "nbconvert_exporter": "python",
   "pygments_lexer": "ipython3",
   "version": "3.8.8"
  }
 },
 "nbformat": 4,
 "nbformat_minor": 5
}
