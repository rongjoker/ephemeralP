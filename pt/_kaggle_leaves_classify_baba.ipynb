{
 "cells": [
  {
   "cell_type": "code",
   "execution_count": 1,
   "id": "e17a9c3b-a356-4336-a8a6-11a3bcde785f",
   "metadata": {
    "tags": []
   },
   "outputs": [
    {
     "name": "stderr",
     "output_type": "stream",
     "text": [
      "C:\\Users\\rongjoker\\anaconda3\\envs\\pandas\\lib\\site-packages\\torch\\nn\\modules\\lazy.py:180: UserWarning: Lazy modules are a new feature under heavy development so changes to the API or functionality can happen at any moment.\n",
      "  warnings.warn('Lazy modules are a new feature under heavy development '\n"
     ]
    }
   ],
   "source": [
    "%matplotlib inline\n",
    "import torch\n",
    "import torchvision\n",
    "from torch import nn\n",
    "import torchvision.transforms as transforms\n",
    "from PIL import Image\n",
    "import d2l_torch as d2l\n",
    "import cnn_base as base\n",
    "import numpy as np\n",
    "import pandas as pd\n",
    "import os\n",
    "from sklearn.model_selection import train_test_split\n",
    "import shutil\n",
    "from torchvision.datasets import ImageFolder\n",
    "from sklearn.model_selection import KFold\n",
    "from torch.utils.data import Dataset, DataLoader\n",
    "import time\n",
    "from matplotlib import pyplot as plt\n",
    "import math\n",
    "import torch.nn.functional as F"
   ]
  },
  {
   "cell_type": "code",
   "execution_count": 2,
   "id": "7baac65f-f339-4ddc-ac06-908f56d711c6",
   "metadata": {
    "tags": []
   },
   "outputs": [],
   "source": [
    "data_dir = '../data/kaggle_leaves/classify-leaves/'\n",
    "\n",
    "test_data = pd.read_csv(os.path.join(data_dir, 'test.csv'))\n",
    "train_data = pd.read_csv(os.path.join(data_dir, 'train.csv'))\n",
    "\n",
    "train_images = train_data.iloc[:, 0].values\n",
    "pred_images = test_data.iloc[:, 0].values\n",
    "train_labels = pd.get_dummies(train_data.iloc[:, 1]).values.argmax(1)\n",
    "train_labels_header = pd.get_dummies(train_data.iloc[:, 1]).columns.values\n",
    "\n",
    "batch_size = 128"
   ]
  },
  {
   "cell_type": "code",
   "execution_count": 3,
   "id": "d449e59a-d367-4516-99a1-36c4e379453a",
   "metadata": {
    "tags": []
   },
   "outputs": [],
   "source": [
    "def get_train_dataset():\n",
    "    # # 创建划分好的训练集和测试集\n",
    "    h_flip = transforms.RandomHorizontalFlip(p=0.5)\n",
    "    v_flip = transforms.RandomVerticalFlip(p=0.5)\n",
    "    shape_aug = transforms.RandomResizedCrop((224, 224), scale=(0.1, 1), ratio=(0.5, 2))\n",
    "    brightness_aug = transforms.ColorJitter(brightness=0.2, contrast=0.2, saturation=0.2, hue=0)\n",
    "    train_augs = transforms.Compose([h_flip, v_flip])  # 图像增广\n",
    "    train_data_trans = transforms.Compose([transforms.Resize(224),\n",
    "                                           train_augs,\n",
    "                                           transforms.ToTensor(),\n",
    "                                           transforms.Normalize([0.485, 0.456, 0.406], [0.229, 0.224, 0.225])])\n",
    "    test_data_trans = transforms.Compose([transforms.Resize(224),\n",
    "                                          transforms.ToTensor(),\n",
    "                                          transforms.Normalize([0.485, 0.456, 0.406], [0.229, 0.224, 0.225])])\n",
    "    train_data_split = ImageFolder(os.path.join(data_dir, 'train_image'),\n",
    "                                   transform=train_data_trans, target_transform=None)\n",
    "    test_data_split = ImageFolder(os.path.join(data_dir, 'test_image'),\n",
    "                                  transform=test_data_trans, target_transform=None)\n",
    "    # 将ImageFolder的映射关系存到csv\n",
    "    # id_code = pd.DataFrame(list(train_data.class_to_idx.items()),\n",
    "    #                        columns=['label', 'id'])\n",
    "    # id_code.to_csv(os.path.join(data_dir, 'id_code.csv'), index=False)\n",
    "    train_dataloader = DataLoader(train_data_split, batch_size=batch_size, shuffle=True)\n",
    "    test_dataloader = DataLoader(test_data_split, batch_size=batch_size, shuffle=True)\n",
    "    # for i, (features, labels) in enumerate(train_dataloader):\n",
    "    #     print(features)\n",
    "    #     print(labels)\n",
    "    #     break\n",
    "\n",
    "    return train_dataloader, test_dataloader"
   ]
  },
  {
   "cell_type": "code",
   "execution_count": 4,
   "id": "d57b932a-0c7c-4aa7-86b6-465452edf6f4",
   "metadata": {
    "tags": []
   },
   "outputs": [],
   "source": [
    "class LeavesTrainDataSet(d2l.DataModule):\n",
    "    def __init__(self, train_dl, test_dl):\n",
    "        super().__init__()\n",
    "        self.save_hyperparameters()\n",
    "        self.train_loader = train_dl\n",
    "        self.val_loader = test_dl\n",
    "\n",
    "    def get_dataloader(self, train):\n",
    "        \"\"\"Defined in :numref:`sec_fashion_mnist`\"\"\"\n",
    "        return self.train_loader if train else self.val_loader"
   ]
  },
  {
   "cell_type": "code",
   "execution_count": 5,
   "id": "db902445-ce13-48cb-9fe7-c2d0c5c547cf",
   "metadata": {
    "tags": []
   },
   "outputs": [],
   "source": [
    "class CLASSIFY_LEAVES(torch.utils.data.Dataset):\n",
    "    def __init__(self, root, images, labels, transform):\n",
    "        super(CLASSIFY_LEAVES, self).__init__()\n",
    "        self.root = root\n",
    "        self.images = images\n",
    "        if labels is None:\n",
    "            self.labels = None\n",
    "        else:\n",
    "            self.labels = labels\n",
    "        self.transform = transform\n",
    "\n",
    "    def __getitem__(self, index):\n",
    "        image_path = self.root + self.images[index]\n",
    "        image = Image.open(image_path)\n",
    "        image = self.transform(image)\n",
    "        if self.labels is None:\n",
    "            return image\n",
    "        label = torch.tensor(self.labels[index])\n",
    "        return image, label\n",
    "\n",
    "    def __len__(self):\n",
    "        return self.images.shape[0]"
   ]
  },
  {
   "cell_type": "code",
   "execution_count": 6,
   "id": "2ca501e9-9e85-4606-9874-30dbab3d7b57",
   "metadata": {
    "tags": []
   },
   "outputs": [],
   "source": [
    "def load_data(images, labels, batch_size, train):\n",
    "    aug = []\n",
    "    if (train):\n",
    "        aug = [transforms.RandomHorizontalFlip(),\n",
    "               transforms.RandomVerticalFlip(),\n",
    "               transforms.ColorJitter(brightness=0.5, contrast=0.5, saturation=0.5, hue=0.5),\n",
    "               transforms.ToTensor()]\n",
    "    else:\n",
    "        aug = [transforms.ToTensor()]\n",
    "    transform = transforms.Compose(aug)\n",
    "    dataset = CLASSIFY_LEAVES(data_dir, images, labels, transform=transform)\n",
    "    return torch.utils.data.DataLoader(dataset=dataset, batch_size=batch_size, num_workers=0, shuffle=train)\n"
   ]
  },
  {
   "cell_type": "code",
   "execution_count": 7,
   "id": "4ed93605-b906-4930-9177-c9f3710a847f",
   "metadata": {
    "tags": []
   },
   "outputs": [],
   "source": [
    "pred_iter = load_data(pred_images, None, 256, train=False)"
   ]
  },
  {
   "cell_type": "code",
   "execution_count": 9,
   "id": "70853055-0b70-4797-8ae5-e81e65f194b1",
   "metadata": {
    "tags": []
   },
   "outputs": [],
   "source": [
    "def predict(pred_iter, model_path):\n",
    "    # model = base.ResNet18(lr=learning_rate, num_classes=176)\n",
    "    model = torchvision.models.resnet18(num_classes=176)\n",
    "    model.load_state_dict(torch.load(model_path))\n",
    "    model = model.to(torch.device('cuda:0'))\n",
    "    model.eval()\n",
    "    prediction = []\n",
    "    for index, X in enumerate(pred_iter):\n",
    "        X = X.to('cuda:0')\n",
    "        prediction.extend(train_labels_header[model(X).argmax(1).cpu()])\n",
    "    test_data['label'] = prediction\n",
    "    test_data.to_csv(os.path.join(data_dir, 'submission.csv'), index=None)"
   ]
  },
  {
   "cell_type": "code",
   "execution_count": null,
   "id": "ea148cd5-4846-4785-91f5-542225bbaeeb",
   "metadata": {},
   "outputs": [],
   "source": [
    "predict(pred_iter,'model/leaves_resnet_jupyter_baba.pth')"
   ]
  }
 ],
 "metadata": {
  "kernelspec": {
   "display_name": "Python 3 (ipykernel)",
   "language": "python",
   "name": "python3"
  },
  "language_info": {
   "codemirror_mode": {
    "name": "ipython",
    "version": 3
   },
   "file_extension": ".py",
   "mimetype": "text/x-python",
   "name": "python",
   "nbconvert_exporter": "python",
   "pygments_lexer": "ipython3",
   "version": "3.9.18"
  }
 },
 "nbformat": 4,
 "nbformat_minor": 5
}
