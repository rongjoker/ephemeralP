{
 "cells": [
  {
   "cell_type": "code",
   "execution_count": 2,
   "id": "a3722642-20e3-470b-adae-ece2884b94f3",
   "metadata": {
    "tags": []
   },
   "outputs": [
    {
     "name": "stderr",
     "output_type": "stream",
     "text": [
      "C:\\Users\\rongjoker\\anaconda3\\envs\\pandas\\lib\\site-packages\\torch\\nn\\modules\\lazy.py:180: UserWarning: Lazy modules are a new feature under heavy development so changes to the API or functionality can happen at any moment.\n",
      "  warnings.warn('Lazy modules are a new feature under heavy development '\n"
     ]
    }
   ],
   "source": [
    "%matplotlib inline\n",
    "import torch\n",
    "import torchvision\n",
    "from torch import nn\n",
    "import torchvision.transforms as transforms\n",
    "from PIL import Image\n",
    "import d2l_torch as d2l\n",
    "import cnn_base as base\n",
    "import numpy as np\n",
    "import pandas as pd\n",
    "import os\n",
    "from sklearn.model_selection import train_test_split\n",
    "import shutil\n",
    "from torchvision.datasets import ImageFolder\n",
    "from sklearn.model_selection import KFold\n",
    "from torch.utils.data import Dataset, DataLoader\n",
    "import time\n",
    "from matplotlib import pyplot as plt\n",
    "import math\n",
    "import torch.nn.functional as F"
   ]
  },
  {
   "cell_type": "code",
   "execution_count": 2,
   "id": "4a7499c4-488c-4819-91b3-4d020fc13885",
   "metadata": {
    "tags": []
   },
   "outputs": [],
   "source": [
    "os.environ['CUDA_LAUNCH_BLOCKING']='1'\n",
    "os.environ['TORCH_USE_CUDA_DSA']='1'\n",
    "os.environ['CUDA_VISIBLE_DEVICES'] = ''\n",
    "os.environ['CUDA_LAUNCH_BLOCKING'] = \"1\""
   ]
  },
  {
   "cell_type": "code",
   "execution_count": 3,
   "id": "f99649a1-ae7a-4cf1-90e8-8021f2b5e07d",
   "metadata": {
    "tags": []
   },
   "outputs": [],
   "source": [
    "data_dir = '../data/kaggle_leaves/classify-leaves/'"
   ]
  },
  {
   "cell_type": "code",
   "execution_count": 4,
   "id": "7d4b441d-ade0-4c12-af8c-7b9670cf2bb9",
   "metadata": {
    "tags": []
   },
   "outputs": [],
   "source": [
    "train_data = pd.read_csv(os.path.join(data_dir, 'train.csv'))\n",
    "test_data = pd.read_csv(os.path.join(data_dir, 'test.csv'))"
   ]
  },
  {
   "cell_type": "code",
   "execution_count": 5,
   "id": "bb12d337-dee1-4e8b-ac0e-0f80784fadc2",
   "metadata": {
    "tags": []
   },
   "outputs": [],
   "source": [
    "# train_data.iloc[0:4]"
   ]
  },
  {
   "cell_type": "code",
   "execution_count": 6,
   "id": "d832a6d6-6384-489b-a3f2-ae960093063f",
   "metadata": {
    "tags": []
   },
   "outputs": [],
   "source": [
    "# len(train_data)"
   ]
  },
  {
   "cell_type": "code",
   "execution_count": 7,
   "id": "472bb99e-44b9-43bd-a1c2-67c999c05f4e",
   "metadata": {
    "tags": []
   },
   "outputs": [],
   "source": [
    "# test_data.iloc[0:4]"
   ]
  },
  {
   "cell_type": "code",
   "execution_count": 8,
   "id": "40d57c8d-affa-4762-8a99-b2cb24559665",
   "metadata": {
    "tags": []
   },
   "outputs": [
    {
     "data": {
      "text/html": [
       "<div>\n",
       "<style scoped>\n",
       "    .dataframe tbody tr th:only-of-type {\n",
       "        vertical-align: middle;\n",
       "    }\n",
       "\n",
       "    .dataframe tbody tr th {\n",
       "        vertical-align: top;\n",
       "    }\n",
       "\n",
       "    .dataframe thead th {\n",
       "        text-align: right;\n",
       "    }\n",
       "</style>\n",
       "<table border=\"1\" class=\"dataframe\">\n",
       "  <thead>\n",
       "    <tr style=\"text-align: right;\">\n",
       "      <th></th>\n",
       "      <th>image</th>\n",
       "    </tr>\n",
       "    <tr>\n",
       "      <th>label</th>\n",
       "      <th></th>\n",
       "    </tr>\n",
       "  </thead>\n",
       "  <tbody>\n",
       "    <tr>\n",
       "      <th>abies_concolor</th>\n",
       "      <td>176</td>\n",
       "    </tr>\n",
       "    <tr>\n",
       "      <th>abies_nordmanniana</th>\n",
       "      <td>93</td>\n",
       "    </tr>\n",
       "    <tr>\n",
       "      <th>acer_campestre</th>\n",
       "      <td>80</td>\n",
       "    </tr>\n",
       "    <tr>\n",
       "      <th>acer_ginnala</th>\n",
       "      <td>86</td>\n",
       "    </tr>\n",
       "    <tr>\n",
       "      <th>acer_griseum</th>\n",
       "      <td>64</td>\n",
       "    </tr>\n",
       "    <tr>\n",
       "      <th>...</th>\n",
       "      <td>...</td>\n",
       "    </tr>\n",
       "    <tr>\n",
       "      <th>ulmus_parvifolia</th>\n",
       "      <td>99</td>\n",
       "    </tr>\n",
       "    <tr>\n",
       "      <th>ulmus_procera</th>\n",
       "      <td>58</td>\n",
       "    </tr>\n",
       "    <tr>\n",
       "      <th>ulmus_pumila</th>\n",
       "      <td>189</td>\n",
       "    </tr>\n",
       "    <tr>\n",
       "      <th>ulmus_rubra</th>\n",
       "      <td>235</td>\n",
       "    </tr>\n",
       "    <tr>\n",
       "      <th>zelkova_serrata</th>\n",
       "      <td>115</td>\n",
       "    </tr>\n",
       "  </tbody>\n",
       "</table>\n",
       "<p>176 rows × 1 columns</p>\n",
       "</div>"
      ],
      "text/plain": [
       "                    image\n",
       "label                    \n",
       "abies_concolor        176\n",
       "abies_nordmanniana     93\n",
       "acer_campestre         80\n",
       "acer_ginnala           86\n",
       "acer_griseum           64\n",
       "...                   ...\n",
       "ulmus_parvifolia       99\n",
       "ulmus_procera          58\n",
       "ulmus_pumila          189\n",
       "ulmus_rubra           235\n",
       "zelkova_serrata       115\n",
       "\n",
       "[176 rows x 1 columns]"
      ]
     },
     "execution_count": 8,
     "metadata": {},
     "output_type": "execute_result"
    }
   ],
   "source": [
    "train_data.groupby('label').count()"
   ]
  },
  {
   "cell_type": "code",
   "execution_count": 9,
   "id": "beab6fb8-a09e-4f00-88f6-1ab8c5bbced3",
   "metadata": {
    "tags": []
   },
   "outputs": [],
   "source": [
    "# train_data.describe()"
   ]
  },
  {
   "cell_type": "code",
   "execution_count": 10,
   "id": "5c4fc300-a998-433e-a4af-7313382ae1b6",
   "metadata": {
    "tags": []
   },
   "outputs": [],
   "source": [
    "train_img_label, test_img_label = train_test_split(train_data, test_size=0.3, stratify=train_data.iloc[:, 1])"
   ]
  },
  {
   "cell_type": "code",
   "execution_count": 11,
   "id": "9374bff5-4d50-4890-8714-0fedb114cac0",
   "metadata": {
    "tags": []
   },
   "outputs": [
    {
     "data": {
      "text/html": [
       "<div>\n",
       "<style scoped>\n",
       "    .dataframe tbody tr th:only-of-type {\n",
       "        vertical-align: middle;\n",
       "    }\n",
       "\n",
       "    .dataframe tbody tr th {\n",
       "        vertical-align: top;\n",
       "    }\n",
       "\n",
       "    .dataframe thead th {\n",
       "        text-align: right;\n",
       "    }\n",
       "</style>\n",
       "<table border=\"1\" class=\"dataframe\">\n",
       "  <thead>\n",
       "    <tr style=\"text-align: right;\">\n",
       "      <th></th>\n",
       "      <th>image</th>\n",
       "      <th>label</th>\n",
       "    </tr>\n",
       "  </thead>\n",
       "  <tbody>\n",
       "    <tr>\n",
       "      <th>count</th>\n",
       "      <td>12847</td>\n",
       "      <td>12847</td>\n",
       "    </tr>\n",
       "    <tr>\n",
       "      <th>unique</th>\n",
       "      <td>12847</td>\n",
       "      <td>176</td>\n",
       "    </tr>\n",
       "    <tr>\n",
       "      <th>top</th>\n",
       "      <td>images/2324.jpg</td>\n",
       "      <td>maclura_pomifera</td>\n",
       "    </tr>\n",
       "    <tr>\n",
       "      <th>freq</th>\n",
       "      <td>1</td>\n",
       "      <td>247</td>\n",
       "    </tr>\n",
       "  </tbody>\n",
       "</table>\n",
       "</div>"
      ],
      "text/plain": [
       "                  image             label\n",
       "count             12847             12847\n",
       "unique            12847               176\n",
       "top     images/2324.jpg  maclura_pomifera\n",
       "freq                  1               247"
      ]
     },
     "execution_count": 11,
     "metadata": {},
     "output_type": "execute_result"
    }
   ],
   "source": [
    "train_img_label.describe()"
   ]
  },
  {
   "cell_type": "code",
   "execution_count": 12,
   "id": "85bcec82-5a5c-41e0-8130-fd662a488681",
   "metadata": {
    "tags": []
   },
   "outputs": [
    {
     "data": {
      "text/html": [
       "<div>\n",
       "<style scoped>\n",
       "    .dataframe tbody tr th:only-of-type {\n",
       "        vertical-align: middle;\n",
       "    }\n",
       "\n",
       "    .dataframe tbody tr th {\n",
       "        vertical-align: top;\n",
       "    }\n",
       "\n",
       "    .dataframe thead th {\n",
       "        text-align: right;\n",
       "    }\n",
       "</style>\n",
       "<table border=\"1\" class=\"dataframe\">\n",
       "  <thead>\n",
       "    <tr style=\"text-align: right;\">\n",
       "      <th></th>\n",
       "      <th>image</th>\n",
       "      <th>label</th>\n",
       "    </tr>\n",
       "  </thead>\n",
       "  <tbody>\n",
       "    <tr>\n",
       "      <th>count</th>\n",
       "      <td>5506</td>\n",
       "      <td>5506</td>\n",
       "    </tr>\n",
       "    <tr>\n",
       "      <th>unique</th>\n",
       "      <td>5506</td>\n",
       "      <td>176</td>\n",
       "    </tr>\n",
       "    <tr>\n",
       "      <th>top</th>\n",
       "      <td>images/6960.jpg</td>\n",
       "      <td>maclura_pomifera</td>\n",
       "    </tr>\n",
       "    <tr>\n",
       "      <th>freq</th>\n",
       "      <td>1</td>\n",
       "      <td>106</td>\n",
       "    </tr>\n",
       "  </tbody>\n",
       "</table>\n",
       "</div>"
      ],
      "text/plain": [
       "                  image             label\n",
       "count              5506              5506\n",
       "unique             5506               176\n",
       "top     images/6960.jpg  maclura_pomifera\n",
       "freq                  1               106"
      ]
     },
     "execution_count": 12,
     "metadata": {},
     "output_type": "execute_result"
    }
   ],
   "source": [
    "test_img_label.describe()"
   ]
  },
  {
   "cell_type": "code",
   "execution_count": 13,
   "id": "4a7dc5d1-2a85-4009-9658-9ad829daafd6",
   "metadata": {
    "tags": []
   },
   "outputs": [
    {
     "data": {
      "text/html": [
       "<div>\n",
       "<style scoped>\n",
       "    .dataframe tbody tr th:only-of-type {\n",
       "        vertical-align: middle;\n",
       "    }\n",
       "\n",
       "    .dataframe tbody tr th {\n",
       "        vertical-align: top;\n",
       "    }\n",
       "\n",
       "    .dataframe thead th {\n",
       "        text-align: right;\n",
       "    }\n",
       "</style>\n",
       "<table border=\"1\" class=\"dataframe\">\n",
       "  <thead>\n",
       "    <tr style=\"text-align: right;\">\n",
       "      <th></th>\n",
       "      <th>image</th>\n",
       "      <th>label</th>\n",
       "    </tr>\n",
       "  </thead>\n",
       "  <tbody>\n",
       "    <tr>\n",
       "      <th>13556</th>\n",
       "      <td>images/13556.jpg</td>\n",
       "      <td>quercus_nigra</td>\n",
       "    </tr>\n",
       "    <tr>\n",
       "      <th>13216</th>\n",
       "      <td>images/13216.jpg</td>\n",
       "      <td>castanea_dentata</td>\n",
       "    </tr>\n",
       "    <tr>\n",
       "      <th>198</th>\n",
       "      <td>images/198.jpg</td>\n",
       "      <td>ulmus_pumila</td>\n",
       "    </tr>\n",
       "    <tr>\n",
       "      <th>12090</th>\n",
       "      <td>images/12090.jpg</td>\n",
       "      <td>pinus_virginiana</td>\n",
       "    </tr>\n",
       "    <tr>\n",
       "      <th>119</th>\n",
       "      <td>images/119.jpg</td>\n",
       "      <td>broussonettia_papyrifera</td>\n",
       "    </tr>\n",
       "  </tbody>\n",
       "</table>\n",
       "</div>"
      ],
      "text/plain": [
       "                  image                     label\n",
       "13556  images/13556.jpg             quercus_nigra\n",
       "13216  images/13216.jpg          castanea_dentata\n",
       "198      images/198.jpg              ulmus_pumila\n",
       "12090  images/12090.jpg          pinus_virginiana\n",
       "119      images/119.jpg  broussonettia_papyrifera"
      ]
     },
     "execution_count": 13,
     "metadata": {},
     "output_type": "execute_result"
    }
   ],
   "source": [
    "train_img_label.head()"
   ]
  },
  {
   "cell_type": "code",
   "execution_count": 14,
   "id": "73a0bf65-f179-48f5-beaf-91e563d404df",
   "metadata": {
    "tags": []
   },
   "outputs": [],
   "source": [
    "# 将划分好的数据写入相应文件\n",
    "train_img_label.to_csv(os.path.join(data_dir, 'split_train.csv'), index=False)\n",
    "test_img_label.to_csv(os.path.join(data_dir, 'split_test.csv'), index=False)"
   ]
  },
  {
   "cell_type": "code",
   "execution_count": 15,
   "id": "fc106048-f6f6-4c74-93c5-3428fd5c886d",
   "metadata": {
    "tags": []
   },
   "outputs": [],
   "source": [
    "#@save\n",
    "def reorg_train_valid(img_label, train=True):\n",
    "    if train:\n",
    "        image_folder = 'train_image'\n",
    "    else:\n",
    "        image_folder = 'test_image'\n",
    "        \n",
    "    split_image_folder = os.path.join(data_dir, image_folder)\n",
    "    print('split_image_folder:', split_image_folder)\n",
    "    if not os.path.exists(split_image_folder):\n",
    "        os.makedirs(split_image_folder)\n",
    "    \n",
    "    for row in img_label.itertuples():\n",
    "        # 安装分类创建目录\n",
    "        image_label_folder = os.path.join(split_image_folder, row[2])        \n",
    "        img_path_ori = os.path.join(data_dir, row[1])\n",
    "        if not os.path.exists(image_label_folder):\n",
    "            os.makedirs(image_label_folder)  # makedirs 创建文件时如果路径不存在会创建这个路径\n",
    "        shutil.copy(img_path_ori, image_label_folder)"
   ]
  },
  {
   "cell_type": "code",
   "execution_count": 16,
   "id": "26b1205e-f7f4-4b55-8a60-2a51c37b9d8d",
   "metadata": {
    "tags": []
   },
   "outputs": [
    {
     "name": "stdout",
     "output_type": "stream",
     "text": [
      "split_image_folder: ../data/kaggle_leaves/classify-leaves/train_image\n"
     ]
    }
   ],
   "source": [
    "reorg_train_valid(train_img_label, train=True)"
   ]
  },
  {
   "cell_type": "code",
   "execution_count": 25,
   "id": "e9e9967f-2484-4a4d-a973-09d40b327240",
   "metadata": {
    "tags": []
   },
   "outputs": [
    {
     "name": "stdout",
     "output_type": "stream",
     "text": [
      "split_image_folder: ../data/kaggle_leaves/classify-leaves/test_image\n"
     ]
    }
   ],
   "source": [
    "reorg_train_valid(test_img_label, train=False)"
   ]
  },
  {
   "cell_type": "markdown",
   "id": "eaf66601-dd26-47ef-81a8-9eac817f3af1",
   "metadata": {},
   "source": [
    "## 创建划分好的训练集和测试集、数据增强"
   ]
  },
  {
   "cell_type": "code",
   "execution_count": 18,
   "id": "63eea435-f208-4809-a694-344e71568865",
   "metadata": {
    "tags": []
   },
   "outputs": [],
   "source": [
    "# # 创建划分好的训练集和测试集\n",
    "h_flip = transforms.RandomHorizontalFlip(p=0.5)\n",
    "v_flip = transforms.RandomVerticalFlip(p=0.5)\n",
    "shape_aug = transforms.RandomResizedCrop((224, 224), scale=(0.1, 1), ratio=(0.5, 2))\n",
    "brightness_aug = transforms.ColorJitter(brightness=0.2, contrast=0.2, saturation=0.2, hue=0)\n",
    "train_augs = transforms.Compose([h_flip, v_flip])  # 图像增广\n",
    "train_data_trans = transforms.Compose([transforms.Resize(224),\n",
    "                                       train_augs,\n",
    "                                       transforms.ToTensor(),\n",
    "                                       transforms.Normalize([0.485, 0.456, 0.406], [0.229, 0.224, 0.225])])\n",
    "test_data_trans = transforms.Compose([transforms.Resize(224),\n",
    "                                      transforms.ToTensor(),\n",
    "                                      transforms.Normalize([0.485, 0.456, 0.406], [0.229, 0.224, 0.225])])\n"
   ]
  },
  {
   "cell_type": "code",
   "execution_count": 26,
   "id": "fa980755-c087-4016-b5d1-e8bfb411b714",
   "metadata": {
    "tags": []
   },
   "outputs": [],
   "source": [
    "train_data = ImageFolder(os.path.join(data_dir, 'train_image'),\n",
    "                         transform=train_data_trans, target_transform=None)\n",
    "test_data = ImageFolder(os.path.join(data_dir, 'test_image'),\n",
    "                        transform=test_data_trans, target_transform=None)"
   ]
  },
  {
   "cell_type": "code",
   "execution_count": 20,
   "id": "356631d4-cbff-49e6-96f5-9a1861ca8960",
   "metadata": {
    "tags": []
   },
   "outputs": [],
   "source": [
    "# 将ImageFolder的映射关系存到csv\n",
    "id_code = pd.DataFrame(list(train_data.class_to_idx.items()),\n",
    "                       columns=['label', 'id'])\n",
    "id_code.to_csv(os.path.join(data_dir, 'id_code.csv'), index=False)"
   ]
  },
  {
   "cell_type": "code",
   "execution_count": 21,
   "id": "fc79c46b-75e5-487f-9664-3741b1bb99fa",
   "metadata": {
    "tags": []
   },
   "outputs": [
    {
     "data": {
      "text/plain": [
       "dict_items([('abies_concolor', 0), ('abies_nordmanniana', 1), ('acer_campestre', 2), ('acer_ginnala', 3), ('acer_griseum', 4), ('acer_negundo', 5), ('acer_palmatum', 6), ('acer_pensylvanicum', 7), ('acer_platanoides', 8), ('acer_pseudoplatanus', 9), ('acer_rubrum', 10), ('acer_saccharinum', 11), ('acer_saccharum', 12), ('aesculus_flava', 13), ('aesculus_glabra', 14), ('aesculus_hippocastamon', 15), ('aesculus_pavi', 16), ('ailanthus_altissima', 17), ('albizia_julibrissin', 18), ('amelanchier_arborea', 19), ('amelanchier_canadensis', 20), ('amelanchier_laevis', 21), ('asimina_triloba', 22), ('betula_alleghaniensis', 23), ('betula_jacqemontii', 24), ('betula_lenta', 25), ('betula_nigra', 26), ('betula_populifolia', 27), ('broussonettia_papyrifera', 28), ('carpinus_betulus', 29), ('carpinus_caroliniana', 30), ('carya_cordiformis', 31), ('carya_glabra', 32), ('carya_ovata', 33), ('carya_tomentosa', 34), ('castanea_dentata', 35), ('catalpa_bignonioides', 36), ('catalpa_speciosa', 37), ('cedrus_atlantica', 38), ('cedrus_deodara', 39), ('cedrus_libani', 40), ('celtis_occidentalis', 41), ('celtis_tenuifolia', 42), ('cercidiphyllum_japonicum', 43), ('cercis_canadensis', 44), ('chamaecyparis_pisifera', 45), ('chamaecyparis_thyoides', 46), ('chionanthus_retusus', 47), ('chionanthus_virginicus', 48), ('cladrastis_lutea', 49), ('cornus_florida', 50), ('cornus_kousa', 51), ('cornus_mas', 52), ('crataegus_crus-galli', 53), ('crataegus_laevigata', 54), ('crataegus_phaenopyrum', 55), ('crataegus_pruinosa', 56), ('crataegus_viridis', 57), ('cryptomeria_japonica', 58), ('diospyros_virginiana', 59), ('eucommia_ulmoides', 60), ('evodia_daniellii', 61), ('fagus_grandifolia', 62), ('ficus_carica', 63), ('fraxinus_nigra', 64), ('fraxinus_pennsylvanica', 65), ('ginkgo_biloba', 66), ('gleditsia_triacanthos', 67), ('gymnocladus_dioicus', 68), ('halesia_tetraptera', 69), ('ilex_opaca', 70), ('juglans_cinerea', 71), ('juglans_nigra', 72), ('juniperus_virginiana', 73), ('koelreuteria_paniculata', 74), ('larix_decidua', 75), ('liquidambar_styraciflua', 76), ('liriodendron_tulipifera', 77), ('maclura_pomifera', 78), ('magnolia_acuminata', 79), ('magnolia_denudata', 80), ('magnolia_grandiflora', 81), ('magnolia_macrophylla', 82), ('magnolia_stellata', 83), ('magnolia_tripetala', 84), ('magnolia_virginiana', 85), ('malus_baccata', 86), ('malus_coronaria', 87), ('malus_floribunda', 88), ('malus_hupehensis', 89), ('malus_pumila', 90), ('metasequoia_glyptostroboides', 91), ('morus_alba', 92), ('morus_rubra', 93), ('nyssa_sylvatica', 94), ('ostrya_virginiana', 95), ('oxydendrum_arboreum', 96), ('paulownia_tomentosa', 97), ('phellodendron_amurense', 98), ('picea_abies', 99), ('picea_orientalis', 100), ('picea_pungens', 101), ('pinus_bungeana', 102), ('pinus_cembra', 103), ('pinus_densiflora', 104), ('pinus_echinata', 105), ('pinus_flexilis', 106), ('pinus_koraiensis', 107), ('pinus_nigra', 108), ('pinus_parviflora', 109), ('pinus_peucea', 110), ('pinus_pungens', 111), ('pinus_resinosa', 112), ('pinus_rigida', 113), ('pinus_strobus', 114), ('pinus_sylvestris', 115), ('pinus_taeda', 116), ('pinus_thunbergii', 117), ('pinus_virginiana', 118), ('pinus_wallichiana', 119), ('platanus_acerifolia', 120), ('platanus_occidentalis', 121), ('populus_deltoides', 122), ('populus_grandidentata', 123), ('populus_tremuloides', 124), ('prunus_pensylvanica', 125), ('prunus_sargentii', 126), ('prunus_serotina', 127), ('prunus_serrulata', 128), ('prunus_subhirtella', 129), ('prunus_virginiana', 130), ('prunus_yedoensis', 131), ('pseudolarix_amabilis', 132), ('ptelea_trifoliata', 133), ('pyrus_calleryana', 134), ('quercus_acutissima', 135), ('quercus_alba', 136), ('quercus_bicolor', 137), ('quercus_cerris', 138), ('quercus_coccinea', 139), ('quercus_imbricaria', 140), ('quercus_macrocarpa', 141), ('quercus_marilandica', 142), ('quercus_michauxii', 143), ('quercus_montana', 144), ('quercus_muehlenbergii', 145), ('quercus_nigra', 146), ('quercus_palustris', 147), ('quercus_phellos', 148), ('quercus_robur', 149), ('quercus_shumardii', 150), ('quercus_stellata', 151), ('quercus_velutina', 152), ('quercus_virginiana', 153), ('robinia_pseudo-acacia', 154), ('salix_babylonica', 155), ('salix_caroliniana', 156), ('salix_matsudana', 157), ('salix_nigra', 158), ('sassafras_albidum', 159), ('staphylea_trifolia', 160), ('stewartia_pseudocamellia', 161), ('styrax_japonica', 162), ('taxodium_distichum', 163), ('tilia_americana', 164), ('tilia_cordata', 165), ('tilia_europaea', 166), ('tilia_tomentosa', 167), ('tsuga_canadensis', 168), ('ulmus_americana', 169), ('ulmus_glabra', 170), ('ulmus_parvifolia', 171), ('ulmus_procera', 172), ('ulmus_pumila', 173), ('ulmus_rubra', 174), ('zelkova_serrata', 175)])"
      ]
     },
     "execution_count": 21,
     "metadata": {},
     "output_type": "execute_result"
    }
   ],
   "source": [
    "train_data.class_to_idx.items()"
   ]
  },
  {
   "cell_type": "code",
   "execution_count": 27,
   "id": "ecebb7a4-39f0-467c-985a-59cc2761414c",
   "metadata": {
    "tags": []
   },
   "outputs": [],
   "source": [
    "batch_size=128\n",
    "train_dataloader = DataLoader(train_data, batch_size=batch_size, shuffle=True)\n",
    "test_dataloader = DataLoader(test_data, batch_size=batch_size, shuffle=True)"
   ]
  },
  {
   "cell_type": "code",
   "execution_count": 28,
   "id": "13f569e8-7bc0-4333-bf60-f04b9ce41c61",
   "metadata": {
    "tags": []
   },
   "outputs": [
    {
     "name": "stdout",
     "output_type": "stream",
     "text": [
      "Train_data:\n",
      "Number of train_dataloader:\t 101\n",
      "Number of train_dataset:\t 12847\n",
      "Test_data:\n",
      "Number of test_dataloader:\t 44\n",
      "Number of test_dataset:\t 5506\n",
      "Shape:\n",
      "The shape of train_features in a batch run:\t torch.Size([128, 3, 224, 224])\n",
      "The shape of train_labels in a batch run:\t torch.Size([128]) \n",
      "\n"
     ]
    }
   ],
   "source": [
    "print('Train_data:')\n",
    "print('Number of train_dataloader:\\t', len(train_dataloader))  # 显示batch的数量\n",
    "print('Number of train_dataset:\\t', len(train_dataloader.dataset))  # 显示训练集样本总数量\n",
    "print('Test_data:')\n",
    "print('Number of test_dataloader:\\t', len(test_dataloader))  # 显示batch的数量\n",
    "print('Number of test_dataset:\\t', len(test_dataloader.dataset))  # 显示测试集样本总数量\n",
    "# 每个batch的数据形状\n",
    "train_X, train_y = next(iter(train_dataloader))\n",
    "print('Shape:')\n",
    "print('The shape of train_features in a batch run:\\t', train_X.shape)\n",
    "print('The shape of train_labels in a batch run:\\t', train_y.shape, '\\n')"
   ]
  },
  {
   "cell_type": "markdown",
   "id": "f0d00153-dd37-412b-bf48-498e3c015bc3",
   "metadata": {
    "tags": []
   },
   "source": [
    "<font color='red'> 定义累加器类和记录多次运行时间的Timer类（来自d2l）</font>"
   ]
  },
  {
   "cell_type": "code",
   "execution_count": 6,
   "id": "f940752b-37d1-4a4b-9d62-2ae563bbc3cd",
   "metadata": {},
   "outputs": [
    {
     "data": {
      "text/html": [
       "<div>\n",
       "<style scoped>\n",
       "    .dataframe tbody tr th:only-of-type {\n",
       "        vertical-align: middle;\n",
       "    }\n",
       "\n",
       "    .dataframe tbody tr th {\n",
       "        vertical-align: top;\n",
       "    }\n",
       "\n",
       "    .dataframe thead th {\n",
       "        text-align: right;\n",
       "    }\n",
       "</style>\n",
       "<table border=\"1\" class=\"dataframe\">\n",
       "  <thead>\n",
       "    <tr style=\"text-align: right;\">\n",
       "      <th></th>\n",
       "      <th>name</th>\n",
       "      <th>number</th>\n",
       "    </tr>\n",
       "  </thead>\n",
       "  <tbody>\n",
       "    <tr>\n",
       "      <th>0</th>\n",
       "      <td>5</td>\n",
       "      <td>6</td>\n",
       "    </tr>\n",
       "    <tr>\n",
       "      <th>1</th>\n",
       "      <td>5</td>\n",
       "      <td>6</td>\n",
       "    </tr>\n",
       "    <tr>\n",
       "      <th>2</th>\n",
       "      <td>5</td>\n",
       "      <td>6</td>\n",
       "    </tr>\n",
       "  </tbody>\n",
       "</table>\n",
       "</div>"
      ],
      "text/plain": [
       "  name number\n",
       "0    5      6\n",
       "1    5      6\n",
       "2    5      6"
      ]
     },
     "execution_count": 6,
     "metadata": {},
     "output_type": "execute_result"
    }
   ],
   "source": [
    "df = pd.DataFrame(columns=['name', 'number'])\n",
    "df.loc[len(df)] = [5, 6]\n",
    "df\n",
    "df.loc[len(df)] = [5, 6]\n",
    "df\n",
    "df.loc[len(df)] = [5, 6]\n",
    "df"
   ]
  },
  {
   "cell_type": "code",
   "execution_count": null,
   "id": "c282079c-a401-4422-a777-ea19e041ed96",
   "metadata": {},
   "outputs": [],
   "source": []
  }
 ],
 "metadata": {
  "kernelspec": {
   "display_name": "Python 3 (ipykernel)",
   "language": "python",
   "name": "python3"
  },
  "language_info": {
   "codemirror_mode": {
    "name": "ipython",
    "version": 3
   },
   "file_extension": ".py",
   "mimetype": "text/x-python",
   "name": "python",
   "nbconvert_exporter": "python",
   "pygments_lexer": "ipython3",
   "version": "3.9.18"
  }
 },
 "nbformat": 4,
 "nbformat_minor": 5
}
